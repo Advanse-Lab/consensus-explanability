{
 "cells": [
  {
   "cell_type": "code",
   "execution_count": 7,
   "id": "cbc7806f-bef1-4262-a9e2-c4712abf745b",
   "metadata": {},
   "outputs": [
    {
     "name": "stdout",
     "output_type": "stream",
     "text": [
      "Requirement already satisfied: dice-ml in ./dice/lib/python3.10/site-packages (0.11)\n",
      "Requirement already satisfied: jsonschema in ./dice/lib/python3.10/site-packages (from dice-ml) (4.21.1)\n",
      "Requirement already satisfied: numpy in ./dice/lib/python3.10/site-packages (from dice-ml) (1.26.4)\n",
      "Requirement already satisfied: pandas<2.0.0 in ./dice/lib/python3.10/site-packages (from dice-ml) (1.5.3)\n",
      "Requirement already satisfied: scikit-learn in ./dice/lib/python3.10/site-packages (from dice-ml) (1.4.1.post1)\n",
      "Requirement already satisfied: tqdm in ./dice/lib/python3.10/site-packages (from dice-ml) (4.66.2)\n",
      "Requirement already satisfied: raiutils>=0.4.0 in ./dice/lib/python3.10/site-packages (from dice-ml) (0.4.1)\n",
      "Requirement already satisfied: python-dateutil>=2.8.1 in ./dice/lib/python3.10/site-packages (from pandas<2.0.0->dice-ml) (2.9.0.post0)\n",
      "Requirement already satisfied: pytz>=2020.1 in ./dice/lib/python3.10/site-packages (from pandas<2.0.0->dice-ml) (2024.1)\n",
      "Requirement already satisfied: requests in ./dice/lib/python3.10/site-packages (from raiutils>=0.4.0->dice-ml) (2.31.0)\n",
      "Requirement already satisfied: scipy in ./dice/lib/python3.10/site-packages (from raiutils>=0.4.0->dice-ml) (1.12.0)\n",
      "Requirement already satisfied: attrs>=22.2.0 in ./dice/lib/python3.10/site-packages (from jsonschema->dice-ml) (23.2.0)\n",
      "Requirement already satisfied: jsonschema-specifications>=2023.03.6 in ./dice/lib/python3.10/site-packages (from jsonschema->dice-ml) (2023.12.1)\n",
      "Requirement already satisfied: referencing>=0.28.4 in ./dice/lib/python3.10/site-packages (from jsonschema->dice-ml) (0.33.0)\n",
      "Requirement already satisfied: rpds-py>=0.7.1 in ./dice/lib/python3.10/site-packages (from jsonschema->dice-ml) (0.18.0)\n",
      "Requirement already satisfied: joblib>=1.2.0 in ./dice/lib/python3.10/site-packages (from scikit-learn->dice-ml) (1.3.2)\n",
      "Requirement already satisfied: threadpoolctl>=2.0.0 in ./dice/lib/python3.10/site-packages (from scikit-learn->dice-ml) (3.3.0)\n",
      "Requirement already satisfied: six>=1.5 in ./dice/lib/python3.10/site-packages (from python-dateutil>=2.8.1->pandas<2.0.0->dice-ml) (1.16.0)\n",
      "Requirement already satisfied: charset-normalizer<4,>=2 in ./dice/lib/python3.10/site-packages (from requests->raiutils>=0.4.0->dice-ml) (3.3.2)\n",
      "Requirement already satisfied: idna<4,>=2.5 in ./dice/lib/python3.10/site-packages (from requests->raiutils>=0.4.0->dice-ml) (3.6)\n",
      "Requirement already satisfied: urllib3<3,>=1.21.1 in ./dice/lib/python3.10/site-packages (from requests->raiutils>=0.4.0->dice-ml) (2.2.1)\n",
      "Requirement already satisfied: certifi>=2017.4.17 in ./dice/lib/python3.10/site-packages (from requests->raiutils>=0.4.0->dice-ml) (2024.2.2)\n"
     ]
    }
   ],
   "source": [
    "!pip install dice-ml\n",
    "#!python3 -m pip install dice-ml"
   ]
  },
  {
   "cell_type": "code",
   "execution_count": 8,
   "id": "e931e534-5f11-4398-b345-1da65b89e6ac",
   "metadata": {},
   "outputs": [
    {
     "ename": "ModuleNotFoundError",
     "evalue": "No module named 'dice_ml'",
     "output_type": "error",
     "traceback": [
      "\u001b[0;31m---------------------------------------------------------------------------\u001b[0m",
      "\u001b[0;31mModuleNotFoundError\u001b[0m                       Traceback (most recent call last)",
      "Cell \u001b[0;32mIn[8], line 1\u001b[0m\n\u001b[0;32m----> 1\u001b[0m \u001b[38;5;28;01mimport\u001b[39;00m \u001b[38;5;21;01mdice_ml\u001b[39;00m\n\u001b[1;32m      2\u001b[0m \u001b[38;5;28;01mfrom\u001b[39;00m \u001b[38;5;21;01mdice_ml\u001b[39;00m \u001b[38;5;28;01mimport\u001b[39;00m Dice\n\u001b[1;32m      3\u001b[0m \u001b[38;5;28;01mfrom\u001b[39;00m \u001b[38;5;21;01mdice_ml\u001b[39;00m\u001b[38;5;21;01m.\u001b[39;00m\u001b[38;5;21;01mutils\u001b[39;00m \u001b[38;5;28;01mimport\u001b[39;00m helpers\n",
      "\u001b[0;31mModuleNotFoundError\u001b[0m: No module named 'dice_ml'"
     ]
    }
   ],
   "source": [
    "import dice_ml\n",
    "from dice_ml import Dice\n",
    "from dice_ml.utils import helpers"
   ]
  },
  {
   "cell_type": "code",
   "execution_count": 2,
   "id": "636b4cc1-83e5-4f73-8c62-acb12c4f1358",
   "metadata": {},
   "outputs": [
    {
     "name": "stdout",
     "output_type": "stream",
     "text": [
      "Cloning into 'DiCE'...\n",
      "remote: Enumerating objects: 5866, done.\u001b[K\n",
      "remote: Counting objects: 100% (2638/2638), done.\u001b[K\n",
      "remote: Compressing objects: 100% (886/886), done.\u001b[K\n",
      "remote: Total 5866 (delta 2082), reused 2154 (delta 1707), pack-reused 3228\u001b[K\n",
      "Receiving objects: 100% (5866/5866), 15.65 MiB | 14.17 MiB/s, done.\n",
      "Resolving deltas: 100% (4183/4183), done.\n"
     ]
    }
   ],
   "source": [
    "!git clone https://github.com/interpretml/DiCE.git"
   ]
  },
  {
   "cell_type": "code",
   "execution_count": 3,
   "id": "68e7609e-f464-4004-8bc4-556305bfe98a",
   "metadata": {},
   "outputs": [
    {
     "name": "stdout",
     "output_type": "stream",
     "text": [
      "/home/vira-tempo/Desktop/IC - XAI/DiCE\n"
     ]
    }
   ],
   "source": [
    "%cd DiCE"
   ]
  },
  {
   "cell_type": "code",
   "execution_count": 4,
   "id": "c796cf39-a6db-4263-9b64-4ce557e9d47f",
   "metadata": {},
   "outputs": [
    {
     "name": "stdout",
     "output_type": "stream",
     "text": [
      "Obtaining file:///home/vira-tempo/Desktop/IC%20-%20XAI/DiCE\n",
      "  Preparing metadata (setup.py) ... \u001b[?25ldone\n",
      "\u001b[?25hCollecting jsonschema\n",
      "  Using cached jsonschema-4.21.1-py3-none-any.whl (85 kB)\n",
      "Collecting numpy\n",
      "  Using cached numpy-1.26.4-cp310-cp310-manylinux_2_17_x86_64.manylinux2014_x86_64.whl (18.2 MB)\n",
      "Collecting pandas<2.0.0\n",
      "  Using cached pandas-1.5.3-cp310-cp310-manylinux_2_17_x86_64.manylinux2014_x86_64.whl (12.1 MB)\n",
      "Collecting raiutils>=0.4.0\n",
      "  Using cached raiutils-0.4.1-py3-none-any.whl (17 kB)\n",
      "Collecting scikit-learn\n",
      "  Using cached scikit_learn-1.4.1.post1-cp310-cp310-manylinux_2_17_x86_64.manylinux2014_x86_64.whl (12.1 MB)\n",
      "Collecting tqdm\n",
      "  Using cached tqdm-4.66.2-py3-none-any.whl (78 kB)\n",
      "Collecting python-dateutil>=2.8.1\n",
      "  Using cached python_dateutil-2.9.0.post0-py2.py3-none-any.whl (229 kB)\n",
      "Collecting pytz>=2020.1\n",
      "  Using cached pytz-2024.1-py2.py3-none-any.whl (505 kB)\n",
      "Collecting requests\n",
      "  Using cached requests-2.31.0-py3-none-any.whl (62 kB)\n",
      "Collecting scipy\n",
      "  Using cached scipy-1.12.0-cp310-cp310-manylinux_2_17_x86_64.manylinux2014_x86_64.whl (38.4 MB)\n",
      "Collecting attrs>=22.2.0\n",
      "  Using cached attrs-23.2.0-py3-none-any.whl (60 kB)\n",
      "Collecting jsonschema-specifications>=2023.03.6\n",
      "  Using cached jsonschema_specifications-2023.12.1-py3-none-any.whl (18 kB)\n",
      "Collecting rpds-py>=0.7.1\n",
      "  Using cached rpds_py-0.18.0-cp310-cp310-manylinux_2_17_x86_64.manylinux2014_x86_64.whl (1.1 MB)\n",
      "Collecting referencing>=0.28.4\n",
      "  Using cached referencing-0.33.0-py3-none-any.whl (26 kB)\n",
      "Collecting joblib>=1.2.0\n",
      "  Using cached joblib-1.3.2-py3-none-any.whl (302 kB)\n",
      "Collecting threadpoolctl>=2.0.0\n",
      "  Using cached threadpoolctl-3.3.0-py3-none-any.whl (17 kB)\n",
      "Collecting six>=1.5\n",
      "  Using cached six-1.16.0-py2.py3-none-any.whl (11 kB)\n",
      "Collecting certifi>=2017.4.17\n",
      "  Using cached certifi-2024.2.2-py3-none-any.whl (163 kB)\n",
      "Collecting idna<4,>=2.5\n",
      "  Using cached idna-3.6-py3-none-any.whl (61 kB)\n",
      "Collecting urllib3<3,>=1.21.1\n",
      "  Using cached urllib3-2.2.1-py3-none-any.whl (121 kB)\n",
      "Collecting charset-normalizer<4,>=2\n",
      "  Using cached charset_normalizer-3.3.2-cp310-cp310-manylinux_2_17_x86_64.manylinux2014_x86_64.whl (142 kB)\n",
      "Installing collected packages: pytz, urllib3, tqdm, threadpoolctl, six, rpds-py, numpy, joblib, idna, charset-normalizer, certifi, attrs, scipy, requests, referencing, python-dateutil, scikit-learn, pandas, jsonschema-specifications, raiutils, jsonschema, dice-ml\n",
      "  Running setup.py develop for dice-ml\n",
      "Successfully installed attrs-23.2.0 certifi-2024.2.2 charset-normalizer-3.3.2 dice-ml-0.11 idna-3.6 joblib-1.3.2 jsonschema-4.21.1 jsonschema-specifications-2023.12.1 numpy-1.26.4 pandas-1.5.3 python-dateutil-2.9.0.post0 pytz-2024.1 raiutils-0.4.1 referencing-0.33.0 requests-2.31.0 rpds-py-0.18.0 scikit-learn-1.4.1.post1 scipy-1.12.0 six-1.16.0 threadpoolctl-3.3.0 tqdm-4.66.2 urllib3-2.2.1\n"
     ]
    }
   ],
   "source": [
    "!pip install -e ."
   ]
  },
  {
   "cell_type": "code",
   "execution_count": 6,
   "id": "626bb8e3-1648-4e08-9647-6105e2a0cf16",
   "metadata": {},
   "outputs": [
    {
     "name": "stdout",
     "output_type": "stream",
     "text": [
      "Requirement already satisfied: jsonschema in /home/vira-tempo/Desktop/IC - XAI/dice/lib/python3.10/site-packages (from -r requirements.txt (line 1)) (4.21.1)\n",
      "Requirement already satisfied: numpy in /home/vira-tempo/Desktop/IC - XAI/dice/lib/python3.10/site-packages (from -r requirements.txt (line 2)) (1.26.4)\n",
      "Requirement already satisfied: pandas<2.0.0 in /home/vira-tempo/Desktop/IC - XAI/dice/lib/python3.10/site-packages (from -r requirements.txt (line 3)) (1.5.3)\n",
      "Requirement already satisfied: scikit-learn in /home/vira-tempo/Desktop/IC - XAI/dice/lib/python3.10/site-packages (from -r requirements.txt (line 4)) (1.4.1.post1)\n",
      "Requirement already satisfied: tqdm in /home/vira-tempo/Desktop/IC - XAI/dice/lib/python3.10/site-packages (from -r requirements.txt (line 5)) (4.66.2)\n",
      "Requirement already satisfied: raiutils>=0.4.0 in /home/vira-tempo/Desktop/IC - XAI/dice/lib/python3.10/site-packages (from -r requirements.txt (line 6)) (0.4.1)\n",
      "Requirement already satisfied: referencing>=0.28.4 in /home/vira-tempo/Desktop/IC - XAI/dice/lib/python3.10/site-packages (from jsonschema->-r requirements.txt (line 1)) (0.33.0)\n",
      "Requirement already satisfied: attrs>=22.2.0 in /home/vira-tempo/Desktop/IC - XAI/dice/lib/python3.10/site-packages (from jsonschema->-r requirements.txt (line 1)) (23.2.0)\n",
      "Requirement already satisfied: jsonschema-specifications>=2023.03.6 in /home/vira-tempo/Desktop/IC - XAI/dice/lib/python3.10/site-packages (from jsonschema->-r requirements.txt (line 1)) (2023.12.1)\n",
      "Requirement already satisfied: rpds-py>=0.7.1 in /home/vira-tempo/Desktop/IC - XAI/dice/lib/python3.10/site-packages (from jsonschema->-r requirements.txt (line 1)) (0.18.0)\n",
      "Requirement already satisfied: pytz>=2020.1 in /home/vira-tempo/Desktop/IC - XAI/dice/lib/python3.10/site-packages (from pandas<2.0.0->-r requirements.txt (line 3)) (2024.1)\n",
      "Requirement already satisfied: python-dateutil>=2.8.1 in /home/vira-tempo/Desktop/IC - XAI/dice/lib/python3.10/site-packages (from pandas<2.0.0->-r requirements.txt (line 3)) (2.9.0.post0)\n",
      "Requirement already satisfied: joblib>=1.2.0 in /home/vira-tempo/Desktop/IC - XAI/dice/lib/python3.10/site-packages (from scikit-learn->-r requirements.txt (line 4)) (1.3.2)\n",
      "Requirement already satisfied: scipy>=1.6.0 in /home/vira-tempo/Desktop/IC - XAI/dice/lib/python3.10/site-packages (from scikit-learn->-r requirements.txt (line 4)) (1.12.0)\n",
      "Requirement already satisfied: threadpoolctl>=2.0.0 in /home/vira-tempo/Desktop/IC - XAI/dice/lib/python3.10/site-packages (from scikit-learn->-r requirements.txt (line 4)) (3.3.0)\n",
      "Requirement already satisfied: requests in /home/vira-tempo/Desktop/IC - XAI/dice/lib/python3.10/site-packages (from raiutils>=0.4.0->-r requirements.txt (line 6)) (2.31.0)\n",
      "Requirement already satisfied: six>=1.5 in /home/vira-tempo/Desktop/IC - XAI/dice/lib/python3.10/site-packages (from python-dateutil>=2.8.1->pandas<2.0.0->-r requirements.txt (line 3)) (1.16.0)\n",
      "Requirement already satisfied: urllib3<3,>=1.21.1 in /home/vira-tempo/Desktop/IC - XAI/dice/lib/python3.10/site-packages (from requests->raiutils>=0.4.0->-r requirements.txt (line 6)) (2.2.1)\n",
      "Requirement already satisfied: certifi>=2017.4.17 in /home/vira-tempo/Desktop/IC - XAI/dice/lib/python3.10/site-packages (from requests->raiutils>=0.4.0->-r requirements.txt (line 6)) (2024.2.2)\n",
      "Requirement already satisfied: idna<4,>=2.5 in /home/vira-tempo/Desktop/IC - XAI/dice/lib/python3.10/site-packages (from requests->raiutils>=0.4.0->-r requirements.txt (line 6)) (3.6)\n",
      "Requirement already satisfied: charset-normalizer<4,>=2 in /home/vira-tempo/Desktop/IC - XAI/dice/lib/python3.10/site-packages (from requests->raiutils>=0.4.0->-r requirements.txt (line 6)) (3.3.2)\n"
     ]
    }
   ],
   "source": [
    "!pip install -r requirements.txt"
   ]
  },
  {
   "cell_type": "code",
   "execution_count": 7,
   "id": "2cc7712b-2e63-4869-b7e4-57da7c16a535",
   "metadata": {},
   "outputs": [
    {
     "ename": "ModuleNotFoundError",
     "evalue": "No module named 'raiutils'",
     "output_type": "error",
     "traceback": [
      "\u001b[0;31m---------------------------------------------------------------------------\u001b[0m",
      "\u001b[0;31mModuleNotFoundError\u001b[0m                       Traceback (most recent call last)",
      "Cell \u001b[0;32mIn[7], line 1\u001b[0m\n\u001b[0;32m----> 1\u001b[0m \u001b[38;5;28;01mimport\u001b[39;00m \u001b[38;5;21;01mdice_ml\u001b[39;00m\n\u001b[1;32m      2\u001b[0m \u001b[38;5;28;01mfrom\u001b[39;00m \u001b[38;5;21;01mdice_ml\u001b[39;00m \u001b[38;5;28;01mimport\u001b[39;00m Dice\n\u001b[1;32m      3\u001b[0m \u001b[38;5;28;01mfrom\u001b[39;00m \u001b[38;5;21;01mdice_ml\u001b[39;00m\u001b[38;5;21;01m.\u001b[39;00m\u001b[38;5;21;01mutils\u001b[39;00m \u001b[38;5;28;01mimport\u001b[39;00m helpers\n",
      "File \u001b[0;32m~/Desktop/IC - XAI/DiCE/dice_ml/__init__.py:1\u001b[0m\n\u001b[0;32m----> 1\u001b[0m \u001b[38;5;28;01mfrom\u001b[39;00m \u001b[38;5;21;01m.\u001b[39;00m\u001b[38;5;21;01mdata\u001b[39;00m \u001b[38;5;28;01mimport\u001b[39;00m Data\n\u001b[1;32m      2\u001b[0m \u001b[38;5;28;01mfrom\u001b[39;00m \u001b[38;5;21;01m.\u001b[39;00m\u001b[38;5;21;01mdice\u001b[39;00m \u001b[38;5;28;01mimport\u001b[39;00m Dice\n\u001b[1;32m      3\u001b[0m \u001b[38;5;28;01mfrom\u001b[39;00m \u001b[38;5;21;01m.\u001b[39;00m\u001b[38;5;21;01mmodel\u001b[39;00m \u001b[38;5;28;01mimport\u001b[39;00m Model\n",
      "File \u001b[0;32m~/Desktop/IC - XAI/DiCE/dice_ml/data.py:9\u001b[0m\n\u001b[1;32m      1\u001b[0m \u001b[38;5;124;03m\"\"\"Module pointing to different implementations of Data class\u001b[39;00m\n\u001b[1;32m      2\u001b[0m \n\u001b[1;32m      3\u001b[0m \u001b[38;5;124;03mDiCE requires only few parameters about the data such as the range of continuous\u001b[39;00m\n\u001b[0;32m   (...)\u001b[0m\n\u001b[1;32m      6\u001b[0m \u001b[38;5;124;03mrange/levels of different features) by specifying appropriate parameters.\u001b[39;00m\n\u001b[1;32m      7\u001b[0m \u001b[38;5;124;03m\"\"\"\u001b[39;00m\n\u001b[0;32m----> 9\u001b[0m \u001b[38;5;28;01mfrom\u001b[39;00m \u001b[38;5;21;01mdice_ml\u001b[39;00m\u001b[38;5;21;01m.\u001b[39;00m\u001b[38;5;21;01mdata_interfaces\u001b[39;00m\u001b[38;5;21;01m.\u001b[39;00m\u001b[38;5;21;01mbase_data_interface\u001b[39;00m \u001b[38;5;28;01mimport\u001b[39;00m _BaseData\n\u001b[1;32m     12\u001b[0m \u001b[38;5;28;01mclass\u001b[39;00m \u001b[38;5;21;01mData\u001b[39;00m(_BaseData):\n\u001b[1;32m     13\u001b[0m \u001b[38;5;250m    \u001b[39m\u001b[38;5;124;03m\"\"\"Class containing all required information about the data for DiCE.\"\"\"\u001b[39;00m\n",
      "File \u001b[0;32m~/Desktop/IC - XAI/DiCE/dice_ml/data_interfaces/base_data_interface.py:6\u001b[0m\n\u001b[1;32m      3\u001b[0m \u001b[38;5;28;01mfrom\u001b[39;00m \u001b[38;5;21;01mabc\u001b[39;00m \u001b[38;5;28;01mimport\u001b[39;00m ABC, abstractmethod\n\u001b[1;32m      5\u001b[0m \u001b[38;5;28;01mimport\u001b[39;00m \u001b[38;5;21;01mpandas\u001b[39;00m \u001b[38;5;28;01mas\u001b[39;00m \u001b[38;5;21;01mpd\u001b[39;00m\n\u001b[0;32m----> 6\u001b[0m \u001b[38;5;28;01mfrom\u001b[39;00m \u001b[38;5;21;01mraiutils\u001b[39;00m\u001b[38;5;21;01m.\u001b[39;00m\u001b[38;5;21;01mexceptions\u001b[39;00m \u001b[38;5;28;01mimport\u001b[39;00m UserConfigValidationException\n\u001b[1;32m      8\u001b[0m \u001b[38;5;28;01mfrom\u001b[39;00m \u001b[38;5;21;01mdice_ml\u001b[39;00m\u001b[38;5;21;01m.\u001b[39;00m\u001b[38;5;21;01mutils\u001b[39;00m\u001b[38;5;21;01m.\u001b[39;00m\u001b[38;5;21;01mexception\u001b[39;00m \u001b[38;5;28;01mimport\u001b[39;00m SystemException\n\u001b[1;32m     11\u001b[0m \u001b[38;5;28;01mclass\u001b[39;00m \u001b[38;5;21;01m_BaseData\u001b[39;00m(ABC):\n",
      "\u001b[0;31mModuleNotFoundError\u001b[0m: No module named 'raiutils'"
     ]
    }
   ],
   "source": [
    "import dice_ml\n",
    "from dice_ml import Dice\n",
    "from dice_ml.utils import helpers"
   ]
  },
  {
   "cell_type": "code",
   "execution_count": 12,
   "id": "43ad9846-d717-4c29-975b-1569109243f3",
   "metadata": {},
   "outputs": [
    {
     "name": "stdout",
     "output_type": "stream",
     "text": [
      "Package                   Version\n",
      "------------------------- -----------\n",
      "attrs                     23.2.0\n",
      "certifi                   2024.2.2\n",
      "charset-normalizer        3.3.2\n",
      "dice-ml                   0.11\n",
      "idna                      3.6\n",
      "joblib                    1.3.2\n",
      "jsonschema                4.21.1\n",
      "jsonschema-specifications 2023.12.1\n",
      "numpy                     1.26.4\n",
      "pandas                    1.5.3\n",
      "pip                       24.0\n",
      "python-dateutil           2.9.0.post0\n",
      "pytz                      2024.1\n",
      "raiutils                  0.4.1\n",
      "referencing               0.33.0\n",
      "requests                  2.31.0\n",
      "rpds-py                   0.18.0\n",
      "scikit-learn              1.4.1.post1\n",
      "scipy                     1.12.0\n",
      "setuptools                59.6.0\n",
      "six                       1.16.0\n",
      "threadpoolctl             3.3.0\n",
      "tqdm                      4.66.2\n",
      "urllib3                   2.2.1\n"
     ]
    }
   ],
   "source": [
    "!pip list"
   ]
  },
  {
   "cell_type": "code",
   "execution_count": 13,
   "id": "03cc9533-f138-455f-a2ab-ed7577b7aea2",
   "metadata": {},
   "outputs": [
    {
     "name": "stdout",
     "output_type": "stream",
     "text": [
      "Python 3.10.12\n"
     ]
    }
   ],
   "source": [
    "!python --version"
   ]
  }
 ],
 "metadata": {
  "kernelspec": {
   "display_name": "Python 3 (ipykernel)",
   "language": "python",
   "name": "python3"
  },
  "language_info": {
   "codemirror_mode": {
    "name": "ipython",
    "version": 3
   },
   "file_extension": ".py",
   "mimetype": "text/x-python",
   "name": "python",
   "nbconvert_exporter": "python",
   "pygments_lexer": "ipython3",
   "version": "3.10.12"
  }
 },
 "nbformat": 4,
 "nbformat_minor": 5
}
