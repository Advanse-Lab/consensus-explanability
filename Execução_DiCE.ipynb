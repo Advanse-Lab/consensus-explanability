{
 "cells": [
  {
   "cell_type": "code",
   "execution_count": 1,
   "id": "cbc7806f-bef1-4262-a9e2-c4712abf745b",
   "metadata": {},
   "outputs": [
    {
     "name": "stdout",
     "output_type": "stream",
     "text": [
      "Requirement already satisfied: dice-ml in ./xai/lib/python3.10/site-packages (0.9)\n",
      "Requirement already satisfied: jsonschema in ./xai/lib/python3.10/site-packages (from dice-ml) (4.21.1)\n",
      "Requirement already satisfied: numpy in ./xai/lib/python3.10/site-packages (from dice-ml) (1.26.3)\n",
      "Requirement already satisfied: pandas in ./xai/lib/python3.10/site-packages (from dice-ml) (2.2.0)\n",
      "Requirement already satisfied: scikit-learn in ./xai/lib/python3.10/site-packages (from dice-ml) (1.4.0)\n",
      "Requirement already satisfied: h5py in ./xai/lib/python3.10/site-packages (from dice-ml) (3.10.0)\n",
      "Requirement already satisfied: tqdm in ./xai/lib/python3.10/site-packages (from dice-ml) (4.66.1)\n",
      "Requirement already satisfied: attrs>=22.2.0 in ./xai/lib/python3.10/site-packages (from jsonschema->dice-ml) (23.2.0)\n",
      "Requirement already satisfied: jsonschema-specifications>=2023.03.6 in ./xai/lib/python3.10/site-packages (from jsonschema->dice-ml) (2023.12.1)\n",
      "Requirement already satisfied: referencing>=0.28.4 in ./xai/lib/python3.10/site-packages (from jsonschema->dice-ml) (0.33.0)\n",
      "Requirement already satisfied: rpds-py>=0.7.1 in ./xai/lib/python3.10/site-packages (from jsonschema->dice-ml) (0.18.0)\n",
      "Requirement already satisfied: python-dateutil>=2.8.2 in ./xai/lib/python3.10/site-packages (from pandas->dice-ml) (2.8.2)\n",
      "Requirement already satisfied: pytz>=2020.1 in ./xai/lib/python3.10/site-packages (from pandas->dice-ml) (2024.1)\n",
      "Requirement already satisfied: tzdata>=2022.7 in ./xai/lib/python3.10/site-packages (from pandas->dice-ml) (2023.4)\n",
      "Requirement already satisfied: scipy>=1.6.0 in ./xai/lib/python3.10/site-packages (from scikit-learn->dice-ml) (1.12.0)\n",
      "Requirement already satisfied: joblib>=1.2.0 in ./xai/lib/python3.10/site-packages (from scikit-learn->dice-ml) (1.3.2)\n",
      "Requirement already satisfied: threadpoolctl>=2.0.0 in ./xai/lib/python3.10/site-packages (from scikit-learn->dice-ml) (3.2.0)\n",
      "Requirement already satisfied: six>=1.5 in ./xai/lib/python3.10/site-packages (from python-dateutil>=2.8.2->pandas->dice-ml) (1.16.0)\n"
     ]
    }
   ],
   "source": [
    "!pip install dice-ml\n",
    "#!python3 -m pip install dice-ml"
   ]
  },
  {
   "cell_type": "code",
   "execution_count": 4,
   "id": "bda54bff-be6d-4bc1-8b8d-a392c500c405",
   "metadata": {},
   "outputs": [
    {
     "name": "stdout",
     "output_type": "stream",
     "text": [
      "/home/vira-tempo/Desktop/IC - XAI/DiCE\n"
     ]
    }
   ],
   "source": [
    "%cd DiCE"
   ]
  },
  {
   "cell_type": "code",
   "execution_count": 10,
   "id": "b466781d-1c29-4a26-9852-9b7f67d01a93",
   "metadata": {},
   "outputs": [
    {
     "name": "stdout",
     "output_type": "stream",
     "text": [
      "Requirement already satisfied: raiwidgets in /home/vira-tempo/Desktop/IC - XAI/xai/lib/python3.10/site-packages (0.34.1)\n",
      "Collecting numpy<=1.26.2,>=1.17.2 (from raiwidgets)\n",
      "  Using cached numpy-1.26.2-cp310-cp310-manylinux_2_17_x86_64.manylinux2014_x86_64.whl.metadata (61 kB)\n",
      "Collecting pandas<2.0.0,>=0.25.1 (from raiwidgets)\n",
      "  Using cached pandas-1.5.3-cp310-cp310-manylinux_2_17_x86_64.manylinux2014_x86_64.whl.metadata (11 kB)\n",
      "Requirement already satisfied: scipy>=1.4.1 in /home/vira-tempo/Desktop/IC - XAI/xai/lib/python3.10/site-packages (from raiwidgets) (1.12.0)\n",
      "Requirement already satisfied: rai-core-flask==0.7.3 in /home/vira-tempo/Desktop/IC - XAI/xai/lib/python3.10/site-packages (from raiwidgets) (0.7.3)\n",
      "Requirement already satisfied: itsdangerous<=2.1.2 in /home/vira-tempo/Desktop/IC - XAI/xai/lib/python3.10/site-packages (from raiwidgets) (2.1.2)\n",
      "Requirement already satisfied: scikit-learn>=0.22.1 in /home/vira-tempo/Desktop/IC - XAI/xai/lib/python3.10/site-packages (from raiwidgets) (1.4.0)\n",
      "Requirement already satisfied: lightgbm>=2.0.11 in /home/vira-tempo/Desktop/IC - XAI/xai/lib/python3.10/site-packages (from raiwidgets) (4.3.0)\n",
      "Requirement already satisfied: erroranalysis>=0.5.3 in /home/vira-tempo/Desktop/IC - XAI/xai/lib/python3.10/site-packages (from raiwidgets) (0.5.3)\n",
      "Requirement already satisfied: fairlearn==0.7.0 in /home/vira-tempo/Desktop/IC - XAI/xai/lib/python3.10/site-packages (from raiwidgets) (0.7.0)\n",
      "Requirement already satisfied: raiutils>=0.4.0 in /home/vira-tempo/Desktop/IC - XAI/xai/lib/python3.10/site-packages (from raiwidgets) (0.4.1)\n",
      "Requirement already satisfied: responsibleai==0.34.1 in /home/vira-tempo/Desktop/IC - XAI/xai/lib/python3.10/site-packages (from raiwidgets) (0.34.1)\n",
      "Requirement already satisfied: Flask in /home/vira-tempo/Desktop/IC - XAI/xai/lib/python3.10/site-packages (from rai-core-flask==0.7.3->raiwidgets) (2.2.5)\n",
      "Requirement already satisfied: Flask-Cors in /home/vira-tempo/Desktop/IC - XAI/xai/lib/python3.10/site-packages (from rai-core-flask==0.7.3->raiwidgets) (4.0.0)\n",
      "Requirement already satisfied: flask-socketio in /home/vira-tempo/Desktop/IC - XAI/xai/lib/python3.10/site-packages (from rai-core-flask==0.7.3->raiwidgets) (5.3.6)\n",
      "Requirement already satisfied: greenlet>=1.1.2 in /home/vira-tempo/Desktop/IC - XAI/xai/lib/python3.10/site-packages (from rai-core-flask==0.7.3->raiwidgets) (3.0.3)\n",
      "Requirement already satisfied: gevent>=21.12.0 in /home/vira-tempo/Desktop/IC - XAI/xai/lib/python3.10/site-packages (from rai-core-flask==0.7.3->raiwidgets) (24.2.1)\n",
      "Collecting markupsafe<=2.1.2 (from rai-core-flask==0.7.3->raiwidgets)\n",
      "  Using cached MarkupSafe-2.1.2-cp310-cp310-manylinux_2_17_x86_64.manylinux2014_x86_64.whl.metadata (3.2 kB)\n",
      "Requirement already satisfied: Werkzeug<=2.2.3 in /home/vira-tempo/Desktop/IC - XAI/xai/lib/python3.10/site-packages (from rai-core-flask==0.7.3->raiwidgets) (2.2.3)\n",
      "Requirement already satisfied: ipython>=7.31.1 in /home/vira-tempo/Desktop/IC - XAI/xai/lib/python3.10/site-packages (from rai-core-flask==0.7.3->raiwidgets) (8.21.0)\n",
      "Collecting dice-ml<0.12,>=0.11 (from responsibleai==0.34.1->raiwidgets)\n",
      "  Downloading dice_ml-0.11-py3-none-any.whl.metadata (20 kB)\n",
      "Requirement already satisfied: econml>=0.14.1 in /home/vira-tempo/Desktop/IC - XAI/xai/lib/python3.10/site-packages (from responsibleai==0.34.1->raiwidgets) (0.15.0)\n",
      "Requirement already satisfied: statsmodels<0.14.0 in /home/vira-tempo/Desktop/IC - XAI/xai/lib/python3.10/site-packages (from responsibleai==0.34.1->raiwidgets) (0.13.5)\n",
      "Requirement already satisfied: jsonschema in /home/vira-tempo/Desktop/IC - XAI/xai/lib/python3.10/site-packages (from responsibleai==0.34.1->raiwidgets) (4.21.1)\n",
      "Requirement already satisfied: interpret-community>=0.31.0 in /home/vira-tempo/Desktop/IC - XAI/xai/lib/python3.10/site-packages (from responsibleai==0.34.1->raiwidgets) (0.31.0)\n",
      "Collecting numba<=0.58.1 (from responsibleai==0.34.1->raiwidgets)\n",
      "  Using cached numba-0.58.1-cp310-cp310-manylinux2014_x86_64.manylinux_2_17_x86_64.whl.metadata (2.7 kB)\n",
      "Requirement already satisfied: semver~=2.13.0 in /home/vira-tempo/Desktop/IC - XAI/xai/lib/python3.10/site-packages (from responsibleai==0.34.1->raiwidgets) (2.13.0)\n",
      "Requirement already satisfied: ml-wrappers in /home/vira-tempo/Desktop/IC - XAI/xai/lib/python3.10/site-packages (from responsibleai==0.34.1->raiwidgets) (0.5.4)\n",
      "Collecting networkx<=2.5 (from responsibleai==0.34.1->raiwidgets)\n",
      "  Using cached networkx-2.5-py3-none-any.whl.metadata (4.9 kB)\n",
      "Requirement already satisfied: ipykernel<=6.8.0 in /home/vira-tempo/Desktop/IC - XAI/xai/lib/python3.10/site-packages (from responsibleai==0.34.1->raiwidgets) (6.8.0)\n",
      "Requirement already satisfied: python-dateutil>=2.8.1 in /home/vira-tempo/Desktop/IC - XAI/xai/lib/python3.10/site-packages (from pandas<2.0.0,>=0.25.1->raiwidgets) (2.8.2)\n",
      "Requirement already satisfied: pytz>=2020.1 in /home/vira-tempo/Desktop/IC - XAI/xai/lib/python3.10/site-packages (from pandas<2.0.0,>=0.25.1->raiwidgets) (2024.1)\n",
      "Requirement already satisfied: requests in /home/vira-tempo/Desktop/IC - XAI/xai/lib/python3.10/site-packages (from raiutils>=0.4.0->raiwidgets) (2.31.0)\n",
      "Requirement already satisfied: joblib>=1.2.0 in /home/vira-tempo/Desktop/IC - XAI/xai/lib/python3.10/site-packages (from scikit-learn>=0.22.1->raiwidgets) (1.3.2)\n",
      "Requirement already satisfied: threadpoolctl>=2.0.0 in /home/vira-tempo/Desktop/IC - XAI/xai/lib/python3.10/site-packages (from scikit-learn>=0.22.1->raiwidgets) (3.2.0)\n",
      "Requirement already satisfied: tqdm in /home/vira-tempo/Desktop/IC - XAI/xai/lib/python3.10/site-packages (from dice-ml<0.12,>=0.11->responsibleai==0.34.1->raiwidgets) (4.66.1)\n",
      "Requirement already satisfied: sparse in /home/vira-tempo/Desktop/IC - XAI/xai/lib/python3.10/site-packages (from econml>=0.14.1->responsibleai==0.34.1->raiwidgets) (0.15.1)\n",
      "Collecting shap<0.44.0,>=0.38.1 (from econml>=0.14.1->responsibleai==0.34.1->raiwidgets)\n",
      "  Using cached shap-0.43.0-cp310-cp310-manylinux_2_12_x86_64.manylinux2010_x86_64.manylinux_2_17_x86_64.manylinux2014_x86_64.whl.metadata (24 kB)\n",
      "Requirement already satisfied: zope.event in /home/vira-tempo/Desktop/IC - XAI/xai/lib/python3.10/site-packages (from gevent>=21.12.0->rai-core-flask==0.7.3->raiwidgets) (5.0)\n",
      "Requirement already satisfied: zope.interface in /home/vira-tempo/Desktop/IC - XAI/xai/lib/python3.10/site-packages (from gevent>=21.12.0->rai-core-flask==0.7.3->raiwidgets) (6.2)\n",
      "Requirement already satisfied: packaging in /home/vira-tempo/Desktop/IC - XAI/xai/lib/python3.10/site-packages (from interpret-community>=0.31.0->responsibleai==0.34.1->raiwidgets) (23.2)\n",
      "Requirement already satisfied: interpret-core<=0.5.0,>=0.1.20 in /home/vira-tempo/Desktop/IC - XAI/xai/lib/python3.10/site-packages (from interpret-community>=0.31.0->responsibleai==0.34.1->raiwidgets) (0.5.0)\n",
      "Requirement already satisfied: debugpy<2.0,>=1.0.0 in /home/vira-tempo/Desktop/IC - XAI/xai/lib/python3.10/site-packages (from ipykernel<=6.8.0->responsibleai==0.34.1->raiwidgets) (1.8.1)\n",
      "Requirement already satisfied: traitlets<6.0,>=5.1.0 in /home/vira-tempo/Desktop/IC - XAI/xai/lib/python3.10/site-packages (from ipykernel<=6.8.0->responsibleai==0.34.1->raiwidgets) (5.14.1)\n",
      "Requirement already satisfied: jupyter-client<8.0 in /home/vira-tempo/Desktop/IC - XAI/xai/lib/python3.10/site-packages (from ipykernel<=6.8.0->responsibleai==0.34.1->raiwidgets) (7.4.9)\n",
      "Requirement already satisfied: tornado<7.0,>=4.2 in /home/vira-tempo/Desktop/IC - XAI/xai/lib/python3.10/site-packages (from ipykernel<=6.8.0->responsibleai==0.34.1->raiwidgets) (6.4)\n",
      "Requirement already satisfied: matplotlib-inline<0.2.0,>=0.1.0 in /home/vira-tempo/Desktop/IC - XAI/xai/lib/python3.10/site-packages (from ipykernel<=6.8.0->responsibleai==0.34.1->raiwidgets) (0.1.6)\n",
      "Requirement already satisfied: nest-asyncio in /home/vira-tempo/Desktop/IC - XAI/xai/lib/python3.10/site-packages (from ipykernel<=6.8.0->responsibleai==0.34.1->raiwidgets) (1.6.0)\n",
      "Requirement already satisfied: decorator in /home/vira-tempo/Desktop/IC - XAI/xai/lib/python3.10/site-packages (from ipython>=7.31.1->rai-core-flask==0.7.3->raiwidgets) (5.1.1)\n",
      "Requirement already satisfied: jedi>=0.16 in /home/vira-tempo/Desktop/IC - XAI/xai/lib/python3.10/site-packages (from ipython>=7.31.1->rai-core-flask==0.7.3->raiwidgets) (0.19.1)\n",
      "Requirement already satisfied: prompt-toolkit<3.1.0,>=3.0.41 in /home/vira-tempo/Desktop/IC - XAI/xai/lib/python3.10/site-packages (from ipython>=7.31.1->rai-core-flask==0.7.3->raiwidgets) (3.0.43)\n",
      "Requirement already satisfied: pygments>=2.4.0 in /home/vira-tempo/Desktop/IC - XAI/xai/lib/python3.10/site-packages (from ipython>=7.31.1->rai-core-flask==0.7.3->raiwidgets) (2.17.2)\n",
      "Requirement already satisfied: stack-data in /home/vira-tempo/Desktop/IC - XAI/xai/lib/python3.10/site-packages (from ipython>=7.31.1->rai-core-flask==0.7.3->raiwidgets) (0.6.3)\n",
      "Requirement already satisfied: exceptiongroup in /home/vira-tempo/Desktop/IC - XAI/xai/lib/python3.10/site-packages (from ipython>=7.31.1->rai-core-flask==0.7.3->raiwidgets) (1.2.0)\n",
      "Requirement already satisfied: pexpect>4.3 in /home/vira-tempo/Desktop/IC - XAI/xai/lib/python3.10/site-packages (from ipython>=7.31.1->rai-core-flask==0.7.3->raiwidgets) (4.9.0)\n",
      "Collecting llvmlite<0.42,>=0.41.0dev0 (from numba<=0.58.1->responsibleai==0.34.1->raiwidgets)\n",
      "  Using cached llvmlite-0.41.1-cp310-cp310-manylinux_2_17_x86_64.manylinux2014_x86_64.whl.metadata (4.8 kB)\n",
      "Requirement already satisfied: six>=1.5 in /home/vira-tempo/Desktop/IC - XAI/xai/lib/python3.10/site-packages (from python-dateutil>=2.8.1->pandas<2.0.0,>=0.25.1->raiwidgets) (1.16.0)\n",
      "Requirement already satisfied: patsy>=0.5.2 in /home/vira-tempo/Desktop/IC - XAI/xai/lib/python3.10/site-packages (from statsmodels<0.14.0->responsibleai==0.34.1->raiwidgets) (0.5.6)\n",
      "Requirement already satisfied: Jinja2>=3.0 in /home/vira-tempo/Desktop/IC - XAI/xai/lib/python3.10/site-packages (from Flask->rai-core-flask==0.7.3->raiwidgets) (3.1.3)\n",
      "Requirement already satisfied: click>=8.0 in /home/vira-tempo/Desktop/IC - XAI/xai/lib/python3.10/site-packages (from Flask->rai-core-flask==0.7.3->raiwidgets) (8.1.7)\n",
      "Requirement already satisfied: python-socketio>=5.0.2 in /home/vira-tempo/Desktop/IC - XAI/xai/lib/python3.10/site-packages (from flask-socketio->rai-core-flask==0.7.3->raiwidgets) (5.11.1)\n",
      "Requirement already satisfied: attrs>=22.2.0 in /home/vira-tempo/Desktop/IC - XAI/xai/lib/python3.10/site-packages (from jsonschema->responsibleai==0.34.1->raiwidgets) (23.2.0)\n",
      "Requirement already satisfied: jsonschema-specifications>=2023.03.6 in /home/vira-tempo/Desktop/IC - XAI/xai/lib/python3.10/site-packages (from jsonschema->responsibleai==0.34.1->raiwidgets) (2023.12.1)\n",
      "Requirement already satisfied: referencing>=0.28.4 in /home/vira-tempo/Desktop/IC - XAI/xai/lib/python3.10/site-packages (from jsonschema->responsibleai==0.34.1->raiwidgets) (0.33.0)\n",
      "Requirement already satisfied: rpds-py>=0.7.1 in /home/vira-tempo/Desktop/IC - XAI/xai/lib/python3.10/site-packages (from jsonschema->responsibleai==0.34.1->raiwidgets) (0.18.0)\n",
      "Requirement already satisfied: charset-normalizer<4,>=2 in /home/vira-tempo/Desktop/IC - XAI/xai/lib/python3.10/site-packages (from requests->raiutils>=0.4.0->raiwidgets) (3.3.2)\n",
      "Requirement already satisfied: idna<4,>=2.5 in /home/vira-tempo/Desktop/IC - XAI/xai/lib/python3.10/site-packages (from requests->raiutils>=0.4.0->raiwidgets) (3.6)\n",
      "Requirement already satisfied: urllib3<3,>=1.21.1 in /home/vira-tempo/Desktop/IC - XAI/xai/lib/python3.10/site-packages (from requests->raiutils>=0.4.0->raiwidgets) (2.2.0)\n",
      "Requirement already satisfied: certifi>=2017.4.17 in /home/vira-tempo/Desktop/IC - XAI/xai/lib/python3.10/site-packages (from requests->raiutils>=0.4.0->raiwidgets) (2024.2.2)\n",
      "Requirement already satisfied: parso<0.9.0,>=0.8.3 in /home/vira-tempo/Desktop/IC - XAI/xai/lib/python3.10/site-packages (from jedi>=0.16->ipython>=7.31.1->rai-core-flask==0.7.3->raiwidgets) (0.8.3)\n",
      "Requirement already satisfied: entrypoints in /home/vira-tempo/Desktop/IC - XAI/xai/lib/python3.10/site-packages (from jupyter-client<8.0->ipykernel<=6.8.0->responsibleai==0.34.1->raiwidgets) (0.4)\n",
      "Requirement already satisfied: jupyter-core>=4.9.2 in /home/vira-tempo/Desktop/IC - XAI/xai/lib/python3.10/site-packages (from jupyter-client<8.0->ipykernel<=6.8.0->responsibleai==0.34.1->raiwidgets) (5.7.1)\n",
      "Requirement already satisfied: pyzmq>=23.0 in /home/vira-tempo/Desktop/IC - XAI/xai/lib/python3.10/site-packages (from jupyter-client<8.0->ipykernel<=6.8.0->responsibleai==0.34.1->raiwidgets) (25.1.2)\n",
      "Requirement already satisfied: ptyprocess>=0.5 in /home/vira-tempo/Desktop/IC - XAI/xai/lib/python3.10/site-packages (from pexpect>4.3->ipython>=7.31.1->rai-core-flask==0.7.3->raiwidgets) (0.7.0)\n",
      "Requirement already satisfied: wcwidth in /home/vira-tempo/Desktop/IC - XAI/xai/lib/python3.10/site-packages (from prompt-toolkit<3.1.0,>=3.0.41->ipython>=7.31.1->rai-core-flask==0.7.3->raiwidgets) (0.2.13)\n",
      "Requirement already satisfied: bidict>=0.21.0 in /home/vira-tempo/Desktop/IC - XAI/xai/lib/python3.10/site-packages (from python-socketio>=5.0.2->flask-socketio->rai-core-flask==0.7.3->raiwidgets) (0.23.1)\n",
      "Requirement already satisfied: python-engineio>=4.8.0 in /home/vira-tempo/Desktop/IC - XAI/xai/lib/python3.10/site-packages (from python-socketio>=5.0.2->flask-socketio->rai-core-flask==0.7.3->raiwidgets) (4.9.0)\n",
      "Requirement already satisfied: slicer==0.0.7 in /home/vira-tempo/Desktop/IC - XAI/xai/lib/python3.10/site-packages (from shap<0.44.0,>=0.38.1->econml>=0.14.1->responsibleai==0.34.1->raiwidgets) (0.0.7)\n",
      "Requirement already satisfied: cloudpickle in /home/vira-tempo/Desktop/IC - XAI/xai/lib/python3.10/site-packages (from shap<0.44.0,>=0.38.1->econml>=0.14.1->responsibleai==0.34.1->raiwidgets) (3.0.0)\n",
      "Requirement already satisfied: executing>=1.2.0 in /home/vira-tempo/Desktop/IC - XAI/xai/lib/python3.10/site-packages (from stack-data->ipython>=7.31.1->rai-core-flask==0.7.3->raiwidgets) (2.0.1)\n",
      "Requirement already satisfied: asttokens>=2.1.0 in /home/vira-tempo/Desktop/IC - XAI/xai/lib/python3.10/site-packages (from stack-data->ipython>=7.31.1->rai-core-flask==0.7.3->raiwidgets) (2.4.1)\n",
      "Requirement already satisfied: pure-eval in /home/vira-tempo/Desktop/IC - XAI/xai/lib/python3.10/site-packages (from stack-data->ipython>=7.31.1->rai-core-flask==0.7.3->raiwidgets) (0.2.2)\n",
      "Requirement already satisfied: setuptools in /home/vira-tempo/Desktop/IC - XAI/xai/lib/python3.10/site-packages (from zope.event->gevent>=21.12.0->rai-core-flask==0.7.3->raiwidgets) (59.6.0)\n",
      "Requirement already satisfied: platformdirs>=2.5 in /home/vira-tempo/Desktop/IC - XAI/xai/lib/python3.10/site-packages (from jupyter-core>=4.9.2->jupyter-client<8.0->ipykernel<=6.8.0->responsibleai==0.34.1->raiwidgets) (4.2.0)\n",
      "Requirement already satisfied: simple-websocket>=0.10.0 in /home/vira-tempo/Desktop/IC - XAI/xai/lib/python3.10/site-packages (from python-engineio>=4.8.0->python-socketio>=5.0.2->flask-socketio->rai-core-flask==0.7.3->raiwidgets) (1.0.0)\n",
      "Requirement already satisfied: wsproto in /home/vira-tempo/Desktop/IC - XAI/xai/lib/python3.10/site-packages (from simple-websocket>=0.10.0->python-engineio>=4.8.0->python-socketio>=5.0.2->flask-socketio->rai-core-flask==0.7.3->raiwidgets) (1.2.0)\n",
      "Requirement already satisfied: h11<1,>=0.9.0 in /home/vira-tempo/Desktop/IC - XAI/xai/lib/python3.10/site-packages (from wsproto->simple-websocket>=0.10.0->python-engineio>=4.8.0->python-socketio>=5.0.2->flask-socketio->rai-core-flask==0.7.3->raiwidgets) (0.14.0)\n",
      "Using cached numpy-1.26.2-cp310-cp310-manylinux_2_17_x86_64.manylinux2014_x86_64.whl (18.2 MB)\n",
      "Using cached pandas-1.5.3-cp310-cp310-manylinux_2_17_x86_64.manylinux2014_x86_64.whl (12.1 MB)\n",
      "Downloading dice_ml-0.11-py3-none-any.whl (2.5 MB)\n",
      "\u001b[2K   \u001b[38;2;114;156;31m━━━━━━━━━━━━━━━━━━━━━━━━━━━━━━━━━━━━━━━━\u001b[0m \u001b[32m2.5/2.5 MB\u001b[0m \u001b[31m2.4 MB/s\u001b[0m eta \u001b[36m0:00:00\u001b[0mm eta \u001b[36m0:00:01\u001b[0m0:01\u001b[0m:01\u001b[0m\n",
      "\u001b[?25hUsing cached MarkupSafe-2.1.2-cp310-cp310-manylinux_2_17_x86_64.manylinux2014_x86_64.whl (25 kB)\n",
      "Using cached networkx-2.5-py3-none-any.whl (1.6 MB)\n",
      "Using cached numba-0.58.1-cp310-cp310-manylinux2014_x86_64.manylinux_2_17_x86_64.whl (3.6 MB)\n",
      "Using cached llvmlite-0.41.1-cp310-cp310-manylinux_2_17_x86_64.manylinux2014_x86_64.whl (43.6 MB)\n",
      "Using cached shap-0.43.0-cp310-cp310-manylinux_2_12_x86_64.manylinux2010_x86_64.manylinux_2_17_x86_64.manylinux2014_x86_64.whl (532 kB)\n",
      "Installing collected packages: numpy, networkx, markupsafe, llvmlite, pandas, numba, shap, dice-ml\n",
      "  Attempting uninstall: numpy\n",
      "    Found existing installation: numpy 1.26.3\n",
      "    Uninstalling numpy-1.26.3:\n",
      "      Successfully uninstalled numpy-1.26.3\n",
      "  Attempting uninstall: networkx\n",
      "    Found existing installation: networkx 3.2.1\n",
      "    Uninstalling networkx-3.2.1:\n",
      "      Successfully uninstalled networkx-3.2.1\n",
      "  Attempting uninstall: markupsafe\n",
      "    Found existing installation: MarkupSafe 2.1.5\n",
      "    Uninstalling MarkupSafe-2.1.5:\n",
      "      Successfully uninstalled MarkupSafe-2.1.5\n",
      "  Attempting uninstall: llvmlite\n",
      "    Found existing installation: llvmlite 0.42.0\n",
      "    Uninstalling llvmlite-0.42.0:\n",
      "      Successfully uninstalled llvmlite-0.42.0\n",
      "  Attempting uninstall: pandas\n",
      "    Found existing installation: pandas 2.2.0\n",
      "    Uninstalling pandas-2.2.0:\n",
      "      Successfully uninstalled pandas-2.2.0\n",
      "  Attempting uninstall: numba\n",
      "    Found existing installation: numba 0.59.0\n",
      "    Uninstalling numba-0.59.0:\n",
      "      Successfully uninstalled numba-0.59.0\n",
      "  Attempting uninstall: shap\n",
      "    Found existing installation: shap 0.44.1\n",
      "    Uninstalling shap-0.44.1:\n",
      "      Successfully uninstalled shap-0.44.1\n",
      "  Attempting uninstall: dice-ml\n",
      "    Found existing installation: dice-ml 0.9\n",
      "    Uninstalling dice-ml-0.9:\n",
      "      Successfully uninstalled dice-ml-0.9\n",
      "\u001b[31mERROR: pip's dependency resolver does not currently take into account all the packages that are installed. This behaviour is the source of the following dependency conflicts.\n",
      "scikit-image 0.22.0 requires networkx>=2.8, but you have networkx 2.5 which is incompatible.\u001b[0m\u001b[31m\n",
      "\u001b[0mSuccessfully installed dice-ml-0.11 llvmlite-0.41.1 markupsafe-2.1.2 networkx-2.5 numba-0.58.1 numpy-1.26.2 pandas-1.5.3 shap-0.43.0\n"
     ]
    }
   ],
   "source": [
    "!pip install raiwidgets"
   ]
  },
  {
   "cell_type": "code",
   "execution_count": 17,
   "id": "1cc65072-c869-45ae-9399-878d87dbec6f",
   "metadata": {},
   "outputs": [
    {
     "name": "stdout",
     "output_type": "stream",
     "text": [
      "Found existing installation: networkx 2.5\n",
      "Uninstalling networkx-2.5:\n",
      "  Successfully uninstalled networkx-2.5\n",
      "Collecting networkx\n",
      "  Using cached networkx-3.2.1-py3-none-any.whl.metadata (5.2 kB)\n",
      "Using cached networkx-3.2.1-py3-none-any.whl (1.6 MB)\n",
      "Installing collected packages: networkx\n",
      "\u001b[31mERROR: pip's dependency resolver does not currently take into account all the packages that are installed. This behaviour is the source of the following dependency conflicts.\n",
      "responsibleai 0.34.1 requires networkx<=2.5, but you have networkx 3.2.1 which is incompatible.\u001b[0m\u001b[31m\n",
      "\u001b[0mSuccessfully installed networkx-3.2.1\n"
     ]
    }
   ],
   "source": [
    "!pip uninstall networkx --yes\n",
    "!pip install networkx"
   ]
  },
  {
   "cell_type": "code",
   "execution_count": 9,
   "id": "e931e534-5f11-4398-b345-1da65b89e6ac",
   "metadata": {},
   "outputs": [
    {
     "ename": "ModuleNotFoundError",
     "evalue": "No module named 'raiutils'",
     "output_type": "error",
     "traceback": [
      "\u001b[0;31m---------------------------------------------------------------------------\u001b[0m",
      "\u001b[0;31mModuleNotFoundError\u001b[0m                       Traceback (most recent call last)",
      "Cell \u001b[0;32mIn[9], line 1\u001b[0m\n\u001b[0;32m----> 1\u001b[0m \u001b[38;5;28;01mimport\u001b[39;00m \u001b[38;5;21;01mdice_ml\u001b[39;00m\n\u001b[1;32m      2\u001b[0m \u001b[38;5;28;01mfrom\u001b[39;00m \u001b[38;5;21;01mdice_ml\u001b[39;00m \u001b[38;5;28;01mimport\u001b[39;00m Dice\n\u001b[1;32m      3\u001b[0m \u001b[38;5;28;01mfrom\u001b[39;00m \u001b[38;5;21;01mdice_ml\u001b[39;00m\u001b[38;5;21;01m.\u001b[39;00m\u001b[38;5;21;01mutils\u001b[39;00m \u001b[38;5;28;01mimport\u001b[39;00m helpers\n",
      "File \u001b[0;32m~/Desktop/IC - XAI/DiCE/dice_ml/__init__.py:1\u001b[0m\n\u001b[0;32m----> 1\u001b[0m \u001b[38;5;28;01mfrom\u001b[39;00m \u001b[38;5;21;01m.\u001b[39;00m\u001b[38;5;21;01mdata\u001b[39;00m \u001b[38;5;28;01mimport\u001b[39;00m Data\n\u001b[1;32m      2\u001b[0m \u001b[38;5;28;01mfrom\u001b[39;00m \u001b[38;5;21;01m.\u001b[39;00m\u001b[38;5;21;01mdice\u001b[39;00m \u001b[38;5;28;01mimport\u001b[39;00m Dice\n\u001b[1;32m      3\u001b[0m \u001b[38;5;28;01mfrom\u001b[39;00m \u001b[38;5;21;01m.\u001b[39;00m\u001b[38;5;21;01mmodel\u001b[39;00m \u001b[38;5;28;01mimport\u001b[39;00m Model\n",
      "File \u001b[0;32m~/Desktop/IC - XAI/DiCE/dice_ml/data.py:9\u001b[0m\n\u001b[1;32m      1\u001b[0m \u001b[38;5;124;03m\"\"\"Module pointing to different implementations of Data class\u001b[39;00m\n\u001b[1;32m      2\u001b[0m \n\u001b[1;32m      3\u001b[0m \u001b[38;5;124;03mDiCE requires only few parameters about the data such as the range of continuous\u001b[39;00m\n\u001b[0;32m   (...)\u001b[0m\n\u001b[1;32m      6\u001b[0m \u001b[38;5;124;03mrange/levels of different features) by specifying appropriate parameters.\u001b[39;00m\n\u001b[1;32m      7\u001b[0m \u001b[38;5;124;03m\"\"\"\u001b[39;00m\n\u001b[0;32m----> 9\u001b[0m \u001b[38;5;28;01mfrom\u001b[39;00m \u001b[38;5;21;01mdice_ml\u001b[39;00m\u001b[38;5;21;01m.\u001b[39;00m\u001b[38;5;21;01mdata_interfaces\u001b[39;00m\u001b[38;5;21;01m.\u001b[39;00m\u001b[38;5;21;01mbase_data_interface\u001b[39;00m \u001b[38;5;28;01mimport\u001b[39;00m _BaseData\n\u001b[1;32m     12\u001b[0m \u001b[38;5;28;01mclass\u001b[39;00m \u001b[38;5;21;01mData\u001b[39;00m(_BaseData):\n\u001b[1;32m     13\u001b[0m \u001b[38;5;250m    \u001b[39m\u001b[38;5;124;03m\"\"\"Class containing all required information about the data for DiCE.\"\"\"\u001b[39;00m\n",
      "File \u001b[0;32m~/Desktop/IC - XAI/DiCE/dice_ml/data_interfaces/base_data_interface.py:6\u001b[0m\n\u001b[1;32m      3\u001b[0m \u001b[38;5;28;01mfrom\u001b[39;00m \u001b[38;5;21;01mabc\u001b[39;00m \u001b[38;5;28;01mimport\u001b[39;00m ABC, abstractmethod\n\u001b[1;32m      5\u001b[0m \u001b[38;5;28;01mimport\u001b[39;00m \u001b[38;5;21;01mpandas\u001b[39;00m \u001b[38;5;28;01mas\u001b[39;00m \u001b[38;5;21;01mpd\u001b[39;00m\n\u001b[0;32m----> 6\u001b[0m \u001b[38;5;28;01mfrom\u001b[39;00m \u001b[38;5;21;01mraiutils\u001b[39;00m\u001b[38;5;21;01m.\u001b[39;00m\u001b[38;5;21;01mexceptions\u001b[39;00m \u001b[38;5;28;01mimport\u001b[39;00m UserConfigValidationException\n\u001b[1;32m      8\u001b[0m \u001b[38;5;28;01mfrom\u001b[39;00m \u001b[38;5;21;01mdice_ml\u001b[39;00m\u001b[38;5;21;01m.\u001b[39;00m\u001b[38;5;21;01mutils\u001b[39;00m\u001b[38;5;21;01m.\u001b[39;00m\u001b[38;5;21;01mexception\u001b[39;00m \u001b[38;5;28;01mimport\u001b[39;00m SystemException\n\u001b[1;32m     11\u001b[0m \u001b[38;5;28;01mclass\u001b[39;00m \u001b[38;5;21;01m_BaseData\u001b[39;00m(ABC):\n",
      "\u001b[0;31mModuleNotFoundError\u001b[0m: No module named 'raiutils'"
     ]
    }
   ],
   "source": [
    "import dice_ml\n",
    "from dice_ml import Dice\n",
    "from dice_ml.utils import helpers"
   ]
  },
  {
   "cell_type": "code",
   "execution_count": 2,
   "id": "636b4cc1-83e5-4f73-8c62-acb12c4f1358",
   "metadata": {},
   "outputs": [
    {
     "name": "stdout",
     "output_type": "stream",
     "text": [
      "Cloning into 'DiCE'...\n",
      "remote: Enumerating objects: 5866, done.\u001b[K\n",
      "remote: Counting objects: 100% (2638/2638), done.\u001b[K\n",
      "remote: Compressing objects: 100% (886/886), done.\u001b[K\n",
      "remote: Total 5866 (delta 2082), reused 2154 (delta 1707), pack-reused 3228\u001b[K\n",
      "Receiving objects: 100% (5866/5866), 15.65 MiB | 14.17 MiB/s, done.\n",
      "Resolving deltas: 100% (4183/4183), done.\n"
     ]
    }
   ],
   "source": [
    "!git clone https://github.com/interpretml/DiCE.git"
   ]
  },
  {
   "cell_type": "code",
   "execution_count": 3,
   "id": "68e7609e-f464-4004-8bc4-556305bfe98a",
   "metadata": {},
   "outputs": [
    {
     "name": "stdout",
     "output_type": "stream",
     "text": [
      "/home/vira-tempo/Desktop/IC - XAI/DiCE\n"
     ]
    }
   ],
   "source": [
    "%cd DiCE"
   ]
  },
  {
   "cell_type": "code",
   "execution_count": 4,
   "id": "c796cf39-a6db-4263-9b64-4ce557e9d47f",
   "metadata": {},
   "outputs": [
    {
     "name": "stdout",
     "output_type": "stream",
     "text": [
      "Obtaining file:///home/vira-tempo/Desktop/IC%20-%20XAI/DiCE\n",
      "  Preparing metadata (setup.py) ... \u001b[?25ldone\n",
      "\u001b[?25hCollecting jsonschema\n",
      "  Using cached jsonschema-4.21.1-py3-none-any.whl (85 kB)\n",
      "Collecting numpy\n",
      "  Using cached numpy-1.26.4-cp310-cp310-manylinux_2_17_x86_64.manylinux2014_x86_64.whl (18.2 MB)\n",
      "Collecting pandas<2.0.0\n",
      "  Using cached pandas-1.5.3-cp310-cp310-manylinux_2_17_x86_64.manylinux2014_x86_64.whl (12.1 MB)\n",
      "Collecting raiutils>=0.4.0\n",
      "  Using cached raiutils-0.4.1-py3-none-any.whl (17 kB)\n",
      "Collecting scikit-learn\n",
      "  Using cached scikit_learn-1.4.1.post1-cp310-cp310-manylinux_2_17_x86_64.manylinux2014_x86_64.whl (12.1 MB)\n",
      "Collecting tqdm\n",
      "  Using cached tqdm-4.66.2-py3-none-any.whl (78 kB)\n",
      "Collecting python-dateutil>=2.8.1\n",
      "  Using cached python_dateutil-2.9.0.post0-py2.py3-none-any.whl (229 kB)\n",
      "Collecting pytz>=2020.1\n",
      "  Using cached pytz-2024.1-py2.py3-none-any.whl (505 kB)\n",
      "Collecting requests\n",
      "  Using cached requests-2.31.0-py3-none-any.whl (62 kB)\n",
      "Collecting scipy\n",
      "  Using cached scipy-1.12.0-cp310-cp310-manylinux_2_17_x86_64.manylinux2014_x86_64.whl (38.4 MB)\n",
      "Collecting attrs>=22.2.0\n",
      "  Using cached attrs-23.2.0-py3-none-any.whl (60 kB)\n",
      "Collecting jsonschema-specifications>=2023.03.6\n",
      "  Using cached jsonschema_specifications-2023.12.1-py3-none-any.whl (18 kB)\n",
      "Collecting rpds-py>=0.7.1\n",
      "  Using cached rpds_py-0.18.0-cp310-cp310-manylinux_2_17_x86_64.manylinux2014_x86_64.whl (1.1 MB)\n",
      "Collecting referencing>=0.28.4\n",
      "  Using cached referencing-0.33.0-py3-none-any.whl (26 kB)\n",
      "Collecting joblib>=1.2.0\n",
      "  Using cached joblib-1.3.2-py3-none-any.whl (302 kB)\n",
      "Collecting threadpoolctl>=2.0.0\n",
      "  Using cached threadpoolctl-3.3.0-py3-none-any.whl (17 kB)\n",
      "Collecting six>=1.5\n",
      "  Using cached six-1.16.0-py2.py3-none-any.whl (11 kB)\n",
      "Collecting certifi>=2017.4.17\n",
      "  Using cached certifi-2024.2.2-py3-none-any.whl (163 kB)\n",
      "Collecting idna<4,>=2.5\n",
      "  Using cached idna-3.6-py3-none-any.whl (61 kB)\n",
      "Collecting urllib3<3,>=1.21.1\n",
      "  Using cached urllib3-2.2.1-py3-none-any.whl (121 kB)\n",
      "Collecting charset-normalizer<4,>=2\n",
      "  Using cached charset_normalizer-3.3.2-cp310-cp310-manylinux_2_17_x86_64.manylinux2014_x86_64.whl (142 kB)\n",
      "Installing collected packages: pytz, urllib3, tqdm, threadpoolctl, six, rpds-py, numpy, joblib, idna, charset-normalizer, certifi, attrs, scipy, requests, referencing, python-dateutil, scikit-learn, pandas, jsonschema-specifications, raiutils, jsonschema, dice-ml\n",
      "  Running setup.py develop for dice-ml\n",
      "Successfully installed attrs-23.2.0 certifi-2024.2.2 charset-normalizer-3.3.2 dice-ml-0.11 idna-3.6 joblib-1.3.2 jsonschema-4.21.1 jsonschema-specifications-2023.12.1 numpy-1.26.4 pandas-1.5.3 python-dateutil-2.9.0.post0 pytz-2024.1 raiutils-0.4.1 referencing-0.33.0 requests-2.31.0 rpds-py-0.18.0 scikit-learn-1.4.1.post1 scipy-1.12.0 six-1.16.0 threadpoolctl-3.3.0 tqdm-4.66.2 urllib3-2.2.1\n"
     ]
    }
   ],
   "source": [
    "!pip install -e ."
   ]
  },
  {
   "cell_type": "code",
   "execution_count": 6,
   "id": "626bb8e3-1648-4e08-9647-6105e2a0cf16",
   "metadata": {},
   "outputs": [
    {
     "name": "stdout",
     "output_type": "stream",
     "text": [
      "Requirement already satisfied: jsonschema in /home/vira-tempo/Desktop/IC - XAI/dice/lib/python3.10/site-packages (from -r requirements.txt (line 1)) (4.21.1)\n",
      "Requirement already satisfied: numpy in /home/vira-tempo/Desktop/IC - XAI/dice/lib/python3.10/site-packages (from -r requirements.txt (line 2)) (1.26.4)\n",
      "Requirement already satisfied: pandas<2.0.0 in /home/vira-tempo/Desktop/IC - XAI/dice/lib/python3.10/site-packages (from -r requirements.txt (line 3)) (1.5.3)\n",
      "Requirement already satisfied: scikit-learn in /home/vira-tempo/Desktop/IC - XAI/dice/lib/python3.10/site-packages (from -r requirements.txt (line 4)) (1.4.1.post1)\n",
      "Requirement already satisfied: tqdm in /home/vira-tempo/Desktop/IC - XAI/dice/lib/python3.10/site-packages (from -r requirements.txt (line 5)) (4.66.2)\n",
      "Requirement already satisfied: raiutils>=0.4.0 in /home/vira-tempo/Desktop/IC - XAI/dice/lib/python3.10/site-packages (from -r requirements.txt (line 6)) (0.4.1)\n",
      "Requirement already satisfied: referencing>=0.28.4 in /home/vira-tempo/Desktop/IC - XAI/dice/lib/python3.10/site-packages (from jsonschema->-r requirements.txt (line 1)) (0.33.0)\n",
      "Requirement already satisfied: attrs>=22.2.0 in /home/vira-tempo/Desktop/IC - XAI/dice/lib/python3.10/site-packages (from jsonschema->-r requirements.txt (line 1)) (23.2.0)\n",
      "Requirement already satisfied: jsonschema-specifications>=2023.03.6 in /home/vira-tempo/Desktop/IC - XAI/dice/lib/python3.10/site-packages (from jsonschema->-r requirements.txt (line 1)) (2023.12.1)\n",
      "Requirement already satisfied: rpds-py>=0.7.1 in /home/vira-tempo/Desktop/IC - XAI/dice/lib/python3.10/site-packages (from jsonschema->-r requirements.txt (line 1)) (0.18.0)\n",
      "Requirement already satisfied: pytz>=2020.1 in /home/vira-tempo/Desktop/IC - XAI/dice/lib/python3.10/site-packages (from pandas<2.0.0->-r requirements.txt (line 3)) (2024.1)\n",
      "Requirement already satisfied: python-dateutil>=2.8.1 in /home/vira-tempo/Desktop/IC - XAI/dice/lib/python3.10/site-packages (from pandas<2.0.0->-r requirements.txt (line 3)) (2.9.0.post0)\n",
      "Requirement already satisfied: joblib>=1.2.0 in /home/vira-tempo/Desktop/IC - XAI/dice/lib/python3.10/site-packages (from scikit-learn->-r requirements.txt (line 4)) (1.3.2)\n",
      "Requirement already satisfied: scipy>=1.6.0 in /home/vira-tempo/Desktop/IC - XAI/dice/lib/python3.10/site-packages (from scikit-learn->-r requirements.txt (line 4)) (1.12.0)\n",
      "Requirement already satisfied: threadpoolctl>=2.0.0 in /home/vira-tempo/Desktop/IC - XAI/dice/lib/python3.10/site-packages (from scikit-learn->-r requirements.txt (line 4)) (3.3.0)\n",
      "Requirement already satisfied: requests in /home/vira-tempo/Desktop/IC - XAI/dice/lib/python3.10/site-packages (from raiutils>=0.4.0->-r requirements.txt (line 6)) (2.31.0)\n",
      "Requirement already satisfied: six>=1.5 in /home/vira-tempo/Desktop/IC - XAI/dice/lib/python3.10/site-packages (from python-dateutil>=2.8.1->pandas<2.0.0->-r requirements.txt (line 3)) (1.16.0)\n",
      "Requirement already satisfied: urllib3<3,>=1.21.1 in /home/vira-tempo/Desktop/IC - XAI/dice/lib/python3.10/site-packages (from requests->raiutils>=0.4.0->-r requirements.txt (line 6)) (2.2.1)\n",
      "Requirement already satisfied: certifi>=2017.4.17 in /home/vira-tempo/Desktop/IC - XAI/dice/lib/python3.10/site-packages (from requests->raiutils>=0.4.0->-r requirements.txt (line 6)) (2024.2.2)\n",
      "Requirement already satisfied: idna<4,>=2.5 in /home/vira-tempo/Desktop/IC - XAI/dice/lib/python3.10/site-packages (from requests->raiutils>=0.4.0->-r requirements.txt (line 6)) (3.6)\n",
      "Requirement already satisfied: charset-normalizer<4,>=2 in /home/vira-tempo/Desktop/IC - XAI/dice/lib/python3.10/site-packages (from requests->raiutils>=0.4.0->-r requirements.txt (line 6)) (3.3.2)\n"
     ]
    }
   ],
   "source": [
    "!pip install -r requirements.txt"
   ]
  },
  {
   "cell_type": "code",
   "execution_count": 7,
   "id": "2cc7712b-2e63-4869-b7e4-57da7c16a535",
   "metadata": {},
   "outputs": [
    {
     "ename": "ModuleNotFoundError",
     "evalue": "No module named 'raiutils'",
     "output_type": "error",
     "traceback": [
      "\u001b[0;31m---------------------------------------------------------------------------\u001b[0m",
      "\u001b[0;31mModuleNotFoundError\u001b[0m                       Traceback (most recent call last)",
      "Cell \u001b[0;32mIn[7], line 1\u001b[0m\n\u001b[0;32m----> 1\u001b[0m \u001b[38;5;28;01mimport\u001b[39;00m \u001b[38;5;21;01mdice_ml\u001b[39;00m\n\u001b[1;32m      2\u001b[0m \u001b[38;5;28;01mfrom\u001b[39;00m \u001b[38;5;21;01mdice_ml\u001b[39;00m \u001b[38;5;28;01mimport\u001b[39;00m Dice\n\u001b[1;32m      3\u001b[0m \u001b[38;5;28;01mfrom\u001b[39;00m \u001b[38;5;21;01mdice_ml\u001b[39;00m\u001b[38;5;21;01m.\u001b[39;00m\u001b[38;5;21;01mutils\u001b[39;00m \u001b[38;5;28;01mimport\u001b[39;00m helpers\n",
      "File \u001b[0;32m~/Desktop/IC - XAI/DiCE/dice_ml/__init__.py:1\u001b[0m\n\u001b[0;32m----> 1\u001b[0m \u001b[38;5;28;01mfrom\u001b[39;00m \u001b[38;5;21;01m.\u001b[39;00m\u001b[38;5;21;01mdata\u001b[39;00m \u001b[38;5;28;01mimport\u001b[39;00m Data\n\u001b[1;32m      2\u001b[0m \u001b[38;5;28;01mfrom\u001b[39;00m \u001b[38;5;21;01m.\u001b[39;00m\u001b[38;5;21;01mdice\u001b[39;00m \u001b[38;5;28;01mimport\u001b[39;00m Dice\n\u001b[1;32m      3\u001b[0m \u001b[38;5;28;01mfrom\u001b[39;00m \u001b[38;5;21;01m.\u001b[39;00m\u001b[38;5;21;01mmodel\u001b[39;00m \u001b[38;5;28;01mimport\u001b[39;00m Model\n",
      "File \u001b[0;32m~/Desktop/IC - XAI/DiCE/dice_ml/data.py:9\u001b[0m\n\u001b[1;32m      1\u001b[0m \u001b[38;5;124;03m\"\"\"Module pointing to different implementations of Data class\u001b[39;00m\n\u001b[1;32m      2\u001b[0m \n\u001b[1;32m      3\u001b[0m \u001b[38;5;124;03mDiCE requires only few parameters about the data such as the range of continuous\u001b[39;00m\n\u001b[0;32m   (...)\u001b[0m\n\u001b[1;32m      6\u001b[0m \u001b[38;5;124;03mrange/levels of different features) by specifying appropriate parameters.\u001b[39;00m\n\u001b[1;32m      7\u001b[0m \u001b[38;5;124;03m\"\"\"\u001b[39;00m\n\u001b[0;32m----> 9\u001b[0m \u001b[38;5;28;01mfrom\u001b[39;00m \u001b[38;5;21;01mdice_ml\u001b[39;00m\u001b[38;5;21;01m.\u001b[39;00m\u001b[38;5;21;01mdata_interfaces\u001b[39;00m\u001b[38;5;21;01m.\u001b[39;00m\u001b[38;5;21;01mbase_data_interface\u001b[39;00m \u001b[38;5;28;01mimport\u001b[39;00m _BaseData\n\u001b[1;32m     12\u001b[0m \u001b[38;5;28;01mclass\u001b[39;00m \u001b[38;5;21;01mData\u001b[39;00m(_BaseData):\n\u001b[1;32m     13\u001b[0m \u001b[38;5;250m    \u001b[39m\u001b[38;5;124;03m\"\"\"Class containing all required information about the data for DiCE.\"\"\"\u001b[39;00m\n",
      "File \u001b[0;32m~/Desktop/IC - XAI/DiCE/dice_ml/data_interfaces/base_data_interface.py:6\u001b[0m\n\u001b[1;32m      3\u001b[0m \u001b[38;5;28;01mfrom\u001b[39;00m \u001b[38;5;21;01mabc\u001b[39;00m \u001b[38;5;28;01mimport\u001b[39;00m ABC, abstractmethod\n\u001b[1;32m      5\u001b[0m \u001b[38;5;28;01mimport\u001b[39;00m \u001b[38;5;21;01mpandas\u001b[39;00m \u001b[38;5;28;01mas\u001b[39;00m \u001b[38;5;21;01mpd\u001b[39;00m\n\u001b[0;32m----> 6\u001b[0m \u001b[38;5;28;01mfrom\u001b[39;00m \u001b[38;5;21;01mraiutils\u001b[39;00m\u001b[38;5;21;01m.\u001b[39;00m\u001b[38;5;21;01mexceptions\u001b[39;00m \u001b[38;5;28;01mimport\u001b[39;00m UserConfigValidationException\n\u001b[1;32m      8\u001b[0m \u001b[38;5;28;01mfrom\u001b[39;00m \u001b[38;5;21;01mdice_ml\u001b[39;00m\u001b[38;5;21;01m.\u001b[39;00m\u001b[38;5;21;01mutils\u001b[39;00m\u001b[38;5;21;01m.\u001b[39;00m\u001b[38;5;21;01mexception\u001b[39;00m \u001b[38;5;28;01mimport\u001b[39;00m SystemException\n\u001b[1;32m     11\u001b[0m \u001b[38;5;28;01mclass\u001b[39;00m \u001b[38;5;21;01m_BaseData\u001b[39;00m(ABC):\n",
      "\u001b[0;31mModuleNotFoundError\u001b[0m: No module named 'raiutils'"
     ]
    }
   ],
   "source": [
    "import dice_ml\n",
    "from dice_ml import Dice\n",
    "from dice_ml.utils import helpers"
   ]
  },
  {
   "cell_type": "code",
   "execution_count": 12,
   "id": "43ad9846-d717-4c29-975b-1569109243f3",
   "metadata": {},
   "outputs": [
    {
     "name": "stdout",
     "output_type": "stream",
     "text": [
      "Package                   Version\n",
      "------------------------- -----------\n",
      "attrs                     23.2.0\n",
      "certifi                   2024.2.2\n",
      "charset-normalizer        3.3.2\n",
      "dice-ml                   0.11\n",
      "idna                      3.6\n",
      "joblib                    1.3.2\n",
      "jsonschema                4.21.1\n",
      "jsonschema-specifications 2023.12.1\n",
      "numpy                     1.26.4\n",
      "pandas                    1.5.3\n",
      "pip                       24.0\n",
      "python-dateutil           2.9.0.post0\n",
      "pytz                      2024.1\n",
      "raiutils                  0.4.1\n",
      "referencing               0.33.0\n",
      "requests                  2.31.0\n",
      "rpds-py                   0.18.0\n",
      "scikit-learn              1.4.1.post1\n",
      "scipy                     1.12.0\n",
      "setuptools                59.6.0\n",
      "six                       1.16.0\n",
      "threadpoolctl             3.3.0\n",
      "tqdm                      4.66.2\n",
      "urllib3                   2.2.1\n"
     ]
    }
   ],
   "source": [
    "!pip list"
   ]
  },
  {
   "cell_type": "code",
   "execution_count": 13,
   "id": "03cc9533-f138-455f-a2ab-ed7577b7aea2",
   "metadata": {},
   "outputs": [
    {
     "name": "stdout",
     "output_type": "stream",
     "text": [
      "Python 3.10.12\n"
     ]
    }
   ],
   "source": [
    "!python --version"
   ]
  }
 ],
 "metadata": {
  "kernelspec": {
   "display_name": "Python 3 (ipykernel)",
   "language": "python",
   "name": "python3"
  },
  "language_info": {
   "codemirror_mode": {
    "name": "ipython",
    "version": 3
   },
   "file_extension": ".py",
   "mimetype": "text/x-python",
   "name": "python",
   "nbconvert_exporter": "python",
   "pygments_lexer": "ipython3",
   "version": "3.10.12"
  }
 },
 "nbformat": 4,
 "nbformat_minor": 5
}
